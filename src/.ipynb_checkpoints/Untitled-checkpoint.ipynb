{
 "cells": [
  {
   "cell_type": "code",
   "execution_count": 1,
   "metadata": {},
   "outputs": [],
   "source": [
    "import os\n",
    "import pandas as pd"
   ]
  },
  {
   "cell_type": "code",
   "execution_count": 2,
   "metadata": {},
   "outputs": [
    {
     "name": "stdout",
     "output_type": "stream",
     "text": [
      ".\\2010_Accidentalidad.xlsx\n",
      ".\\2011_Accidentalidad.xlsx\n",
      ".\\2012_Accidentalidad.xlsx\n",
      ".\\2013_Accidentalidad.xlsx\n",
      ".\\2014_Accidentalidad.xlsx\n",
      ".\\2015_Accidentalidad - copia.xlsx\n",
      ".\\2016_Accidentalidad.xlsx\n",
      ".\\2017_Accidentalidad.xlsx\n",
      ".\\2018_Accidentalidad.xlsx\n"
     ]
    }
   ],
   "source": [
    "os.chdir(r\"..\\\\Data\")\n",
    "directory=os.curdir\n",
    "files=os.listdir(directory)\n",
    "files=[directory+ '\\\\' +file for file in files]\n",
    "data=[]\n",
    "for file in files:\n",
    "    print(file)\n",
    "    content=pd.read_excel(file)\n",
    "    data.append(content)\n",
    "merged_data=pd.concat(data)\n",
    "\n"
   ]
  },
  {
   "cell_type": "code",
   "execution_count": 5,
   "metadata": {},
   "outputs": [
    {
     "data": {
      "text/plain": [
       "FECHA                 datetime64[ns]\n",
       "RANGO HORARIO                 object\n",
       "DIA SEMANA                    object\n",
       "DISTRITO                      object\n",
       "LUGAR ACCIDENTE               object\n",
       "Nº                            object\n",
       "Nº PARTE                      object\n",
       "CPFA Granizo                  object\n",
       "CPFA Hielo                    object\n",
       "CPFA Lluvia                   object\n",
       "CPFA Niebla                   object\n",
       "CPFA Seco                     object\n",
       "CPFA Nieve                    object\n",
       "CPSV Mojada                   object\n",
       "CPSV Aceite                   object\n",
       "CPSV Barro                    object\n",
       "CPSV Grava Suelta             object\n",
       "CPSV Hielo                    object\n",
       "CPSV Seca Y Limpia            object\n",
       "VICTIMAS                       int64\n",
       "TIPO ACCIDENTE                object\n",
       "Tipo Vehiculo                 object\n",
       "TIPO PERSONA                  object\n",
       "SEXO                          object\n",
       "LESIVIDAD                     object\n",
       "Tramo Edad                    object\n",
       "dtype: object"
      ]
     },
     "execution_count": 5,
     "metadata": {},
     "output_type": "execute_result"
    }
   ],
   "source": [
    "merged_data.dtypes"
   ]
  },
  {
   "cell_type": "code",
   "execution_count": 17,
   "metadata": {},
   "outputs": [],
   "source": [
    "merged_data['ANO']=merged_data.FECHA.apply(lambda x:x.year)"
   ]
  },
  {
   "cell_type": "code",
   "execution_count": 64,
   "metadata": {},
   "outputs": [
    {
     "data": {
      "text/plain": [
       "<matplotlib.axes._subplots.AxesSubplot at 0xb8e8bf0>"
      ]
     },
     "execution_count": 64,
     "metadata": {},
     "output_type": "execute_result"
    },
    {
     "data": {
      "image/png": "[encoded data removed]",
      "text/plain": [
       "<Figure size 432x288 with 1 Axes>"
      ]
     },
     "metadata": {
      "needs_background": "light"
     },
     "output_type": "display_data"
    }
   ],
   "source": [
    "#merged_data[merged_data.LESIVIDAD=='MT'].groupby(by=['ANO','LESIVIDAD'])['VICTIMAS'].sum().plot(kind='bar')\n",
    "merged_data[(merged_data['LESIVIDAD'].str.match('MT'))&(merged_data['TIPO ACCIDENTE'].str.match('ATROPELLO'))].groupby(by=['ANO'])['VICTIMAS'].sum().plot(kind='bar')"
   ]
  },
  {
   "cell_type": "code",
   "execution_count": 60,
   "metadata": {},
   "outputs": [
    {
     "data": {
      "text/plain": [
       "COLISIÓN DOBLE                              145544\n",
       "ATROPELLO                                    41398\n",
       "COLISIÓN MÚLTIPLE                            29195\n",
       "CAÍDA MOTOCICLETA                            14155\n",
       "CHOQUE CON OBJETO FIJO                       12595\n",
       "CAÍDA VIAJERO BUS                             2794\n",
       "CAÍDA BICICLETA                               2616\n",
       "CAÍDA CICLOMOTOR                              2536\n",
       "VUELCO                                        1135\n",
       "OTRAS CAUSAS                                  1011\n",
       "CAÍDA VEHÍCULO 3 RUEDAS                         19\n",
       "Name: TIPO ACCIDENTE, dtype: int64"
      ]
     },
     "execution_count": 60,
     "metadata": {},
     "output_type": "execute_result"
    }
   ],
   "source": [
    "merged_data.LESIVIDAD.value_counts()\n",
    "merged_data['TIPO ACCIDENTE'].value_counts()"
   ]
  }
 ],
 "metadata": {
  "kernelspec": {
   "display_name": "Python 3",
   "language": "python",
   "name": "python3"
  },
  "language_info": {
   "codemirror_mode": {
    "name": "ipython",
    "version": 3
   },
   "file_extension": ".py",
   "mimetype": "text/x-python",
   "name": "python",
   "nbconvert_exporter": "python",
   "pygments_lexer": "ipython3",
   "version": "3.7.3"
  }
 },
 "nbformat": 4,
 "nbformat_minor": 2
}
