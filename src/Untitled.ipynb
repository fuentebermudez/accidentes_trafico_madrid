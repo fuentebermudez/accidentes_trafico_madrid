{
 "cells": [
  {
   "cell_type": "code",
   "execution_count": 59,
   "metadata": {},
   "outputs": [],
   "source": [
    "import os\n",
    "import pandas as pd\n",
    "import requests\n",
    "import numpy as np\n",
    "import matplotlib as mp\n",
    "import matplotlib.pyplot as plt\n",
    "import re"
   ]
  },
  {
   "cell_type": "code",
   "execution_count": null,
   "metadata": {},
   "outputs": [],
   "source": [
    "\n",
    "os.chdir(r\"..\\\\Data\")\n",
    "directory=os.curdir\n",
    "\n",
    "example_headers = {'User-Agent':'Mozilla/5.0 (Windows NT 10.0; WOW64; rv:50.0) Gecko/20100101 Firefox/50.0'}\n",
    "\n",
    "url=\"https://datos.madrid.es/portal/site/egob/menuitem.ac61933d6ee3c31cae77ae7784f1a5a0/?vgnextoid=00149033f2201410VgnVCM100000171f5a0aRCRD&mgmtid=374512b9ace9f310VgnVCM100000171f5a0aRCRD&search=keyword/trafico&preview=full&format=json\"\n",
    "response=requests.get(url,headers=example_headers)\n",
    "\n",
    "response=response.json()\n",
    "accidentes_trafico_años=response[\"result\"][\"items\"][1][\"distribution\"]\n",
    "year=1\n",
    "for año in accidentes_trafico_años:\n",
    "    URL_xlsx=año[\"accessURL\"]\n",
    "    nombre=año[\"title\"]\n",
    "    with open((directory+ \"\\\\\" +nombre+\"_accidentes.xlsx\"), 'wb') as f:\n",
    "        response = requests.get(URL_xlsx,headers=example_headers)\n",
    "        f.write(response.content)\n",
    "        f.close()\n",
    "    year=year+1"
   ]
  },
  {
   "cell_type": "code",
   "execution_count": null,
   "metadata": {},
   "outputs": [],
   "source": [
    "os.chdir(r\"..\\\\Data\")\n",
    "directory=os.curdir\n",
    "\n",
    "example_headers = {'User-Agent':'Mozilla/5.0 (Windows NT 10.0; WOW64; rv:50.0) Gecko/20100101 Firefox/50.0'}\n",
    "\n",
    "url='https://datos.madrid.es/egob/catalogo/keyword/alcoholemia.json'\n",
    "response=requests.get(url,headers=example_headers)\n",
    "\n",
    "response=response.json()\n",
    "accidentes_trafico_años=response[\"result\"][\"items\"][0][\"distribution\"]\n",
    "year=1\n",
    "for año in accidentes_trafico_años:\n",
    "    URL_xlsx=año[\"accessURL\"]\n",
    "    nombre=año[\"title\"]\n",
    "    with open((directory+ \"\\\\\" + nombre+\"_policia.xlsx\"), 'wb') as f:\n",
    "        response = requests.get(URL_xlsx,headers=example_headers)\n",
    "        f.write(response.content)\n",
    "        f.close()\n",
    "    year=year+1"
   ]
  },
  {
   "cell_type": "code",
   "execution_count": null,
   "metadata": {},
   "outputs": [],
   "source": [
    "os.chdir(r\"..\\\\Data\")\n",
    "directory=os.curdir\n",
    "files=os.listdir(directory)\n",
    "files=[directory+ '\\\\' +file for file in files if \"accidentes\" in file]\n",
    "data=[]\n",
    "for file in files:\n",
    "    print(file)\n",
    "    content=pd.read_excel(file)\n",
    "    content.columns=['FECHA','RANGO HORARIO','DIA SEMANA','DISTRITO','LUGAR ACCIDENTE','Nº','Nº PARTE','CPFA Granizo','CPFA Hielo','CPFA Lluvia','CPFA Niebla','CPFA Seco','CPFA Nieve','CPSV Mojada','CPSV Aceite','CPSV Barro','CPSV Grava Suelta','CPSV Hielo','CPSV Seca Y Limpia','VICTIMAS','TIPO ACCIDENTE','Tipo Vehiculo','TIPO PERSONA','SEXO','LESIVIDAD','Tramo Edad']\n",
    "    data.append(content)\n",
    "merged_data=pd.concat(data)\n",
    "\n"
   ]
  },
  {
   "cell_type": "code",
   "execution_count": null,
   "metadata": {},
   "outputs": [],
   "source": [
    "os.chdir(r\"..\\\\Data\")\n",
    "directory=os.curdir\n",
    "files=os.listdir(directory)\n",
    "files=[directory+ '\\\\' +file for file in files if \"policia\" in file]\n",
    "data=[]\n",
    "for file in files:\n",
    "    content=pd.read_excel(file,sheet_name='ALCOHOLEMIAS')\n",
    "    content.columns=['TIPOS','N_PRUEBAS']\n",
    "    totales=content[content['TIPOS']=='TOTAL']\n",
    "    totales=totales.assign(AÑO=file.split(\".\")[1][1:])\n",
    "    data.append(totales)\n",
    "pruebas_alcoholemia=pd.concat(data)\n"
   ]
  },
  {
   "cell_type": "code",
   "execution_count": null,
   "metadata": {},
   "outputs": [],
   "source": [
    "#Trasnformaciones\n",
    "df_obj = merged_data.select_dtypes(['object'])\n",
    "merged_data.LESIVIDAD=merged_data.LESIVIDAD.apply(lambda x:x[:2]);\n",
    "merged_data['ANO']=merged_data.FECHA.apply(lambda x:x.year)\n",
    "\n",
    "def media_edades(rango):\n",
    "    m = re.findall('\\d{2}', rango)\n",
    "    m=[int(edad) for edad in m]\n",
    "    try:\n",
    "        media_edades=sum(m)/len(m)\n",
    "    except(ZeroDivisionError):\n",
    "        media_edades=0\n",
    "    return media_edades\n",
    "\n",
    "merged_data[\"Edad\"]=merged_data[\"Tramo Edad\"].apply(lambda x:media_edades(x))"
   ]
  },
  {
   "cell_type": "code",
   "execution_count": null,
   "metadata": {},
   "outputs": [],
   "source": [
    "merged_data.dtypes"
   ]
  },
  {
   "cell_type": "code",
   "execution_count": 87,
   "metadata": {},
   "outputs": [
    {
     "data": {
      "text/html": [
       "<div>\n",
       "<style scoped>\n",
       "    .dataframe tbody tr th:only-of-type {\n",
       "        vertical-align: middle;\n",
       "    }\n",
       "\n",
       "    .dataframe tbody tr th {\n",
       "        vertical-align: top;\n",
       "    }\n",
       "\n",
       "    .dataframe thead th {\n",
       "        text-align: right;\n",
       "    }\n",
       "</style>\n",
       "<table border=\"1\" class=\"dataframe\">\n",
       "  <thead>\n",
       "    <tr style=\"text-align: right;\">\n",
       "      <th></th>\n",
       "      <th>FECHA</th>\n",
       "      <th>RANGO HORARIO</th>\n",
       "      <th>DIA SEMANA</th>\n",
       "      <th>DISTRITO</th>\n",
       "      <th>LUGAR ACCIDENTE</th>\n",
       "      <th>Nº</th>\n",
       "      <th>Nº PARTE</th>\n",
       "      <th>CPFA Granizo</th>\n",
       "      <th>CPFA Hielo</th>\n",
       "      <th>CPFA Lluvia</th>\n",
       "      <th>...</th>\n",
       "      <th>CPSV Seca Y Limpia</th>\n",
       "      <th>VICTIMAS</th>\n",
       "      <th>TIPO ACCIDENTE</th>\n",
       "      <th>Tipo Vehiculo</th>\n",
       "      <th>TIPO PERSONA</th>\n",
       "      <th>SEXO</th>\n",
       "      <th>LESIVIDAD</th>\n",
       "      <th>Tramo Edad</th>\n",
       "      <th>ANO</th>\n",
       "      <th>Edad</th>\n",
       "    </tr>\n",
       "  </thead>\n",
       "  <tbody>\n",
       "    <tr>\n",
       "      <th>0</th>\n",
       "      <td>2018-01-01</td>\n",
       "      <td>DE 00:00 A 00:59</td>\n",
       "      <td>LUNES</td>\n",
       "      <td>USERA</td>\n",
       "      <td>CALLE DE SAN BASILIO - CALLE DEL CRISTO DE LA ...</td>\n",
       "      <td>0</td>\n",
       "      <td>2018/1</td>\n",
       "      <td>NO</td>\n",
       "      <td>NO</td>\n",
       "      <td>NO</td>\n",
       "      <td>...</td>\n",
       "      <td>SI</td>\n",
       "      <td>1</td>\n",
       "      <td>ATROPELLO</td>\n",
       "      <td>NO ASIGNADO</td>\n",
       "      <td>PEATON</td>\n",
       "      <td>HOMBRE</td>\n",
       "      <td>HG</td>\n",
       "      <td>DE 15 A 17 AÑOS</td>\n",
       "      <td>2018</td>\n",
       "      <td>16.0</td>\n",
       "    </tr>\n",
       "    <tr>\n",
       "      <th>1</th>\n",
       "      <td>2018-01-01</td>\n",
       "      <td>DE 00:00 A 00:59</td>\n",
       "      <td>LUNES</td>\n",
       "      <td>USERA</td>\n",
       "      <td>CALLE DE SAN BASILIO - CALLE DEL CRISTO DE LA ...</td>\n",
       "      <td>0</td>\n",
       "      <td>2018/1</td>\n",
       "      <td>NO</td>\n",
       "      <td>NO</td>\n",
       "      <td>NO</td>\n",
       "      <td>...</td>\n",
       "      <td>SI</td>\n",
       "      <td>1</td>\n",
       "      <td>ATROPELLO</td>\n",
       "      <td>NO ASIGNADO</td>\n",
       "      <td>TESTIGO</td>\n",
       "      <td>HOMBRE</td>\n",
       "      <td>IL</td>\n",
       "      <td>DE 30 A 34 ANOS</td>\n",
       "      <td>2018</td>\n",
       "      <td>32.0</td>\n",
       "    </tr>\n",
       "    <tr>\n",
       "      <th>2</th>\n",
       "      <td>2018-01-01</td>\n",
       "      <td>DE 00:00 A 00:59</td>\n",
       "      <td>LUNES</td>\n",
       "      <td>USERA</td>\n",
       "      <td>CALLE DE SAN BASILIO - CALLE DEL CRISTO DE LA ...</td>\n",
       "      <td>0</td>\n",
       "      <td>2018/1</td>\n",
       "      <td>NO</td>\n",
       "      <td>NO</td>\n",
       "      <td>NO</td>\n",
       "      <td>...</td>\n",
       "      <td>SI</td>\n",
       "      <td>1</td>\n",
       "      <td>ATROPELLO</td>\n",
       "      <td>TURISMO</td>\n",
       "      <td>CONDUCTOR</td>\n",
       "      <td>HOMBRE</td>\n",
       "      <td>IL</td>\n",
       "      <td>DE 35 A 39 AÑOS</td>\n",
       "      <td>2018</td>\n",
       "      <td>37.0</td>\n",
       "    </tr>\n",
       "    <tr>\n",
       "      <th>3</th>\n",
       "      <td>2018-01-01</td>\n",
       "      <td>DE 1:00 A 1:59</td>\n",
       "      <td>LUNES</td>\n",
       "      <td>HORTALEZA</td>\n",
       "      <td>AVENIDA DE FRANCISCO PI Y MARGALL - AVENIDA DE...</td>\n",
       "      <td></td>\n",
       "      <td>2018/3</td>\n",
       "      <td>NO</td>\n",
       "      <td>NO</td>\n",
       "      <td>NO</td>\n",
       "      <td>...</td>\n",
       "      <td>SI</td>\n",
       "      <td>1</td>\n",
       "      <td>CHOQUE CON OBJETO FIJO</td>\n",
       "      <td>NO ASIGNADO</td>\n",
       "      <td>TESTIGO</td>\n",
       "      <td>HOMBRE</td>\n",
       "      <td>IL</td>\n",
       "      <td>DE 21 A 24 AÑOS</td>\n",
       "      <td>2018</td>\n",
       "      <td>22.5</td>\n",
       "    </tr>\n",
       "    <tr>\n",
       "      <th>4</th>\n",
       "      <td>2018-01-01</td>\n",
       "      <td>DE 1:00 A 1:59</td>\n",
       "      <td>LUNES</td>\n",
       "      <td>HORTALEZA</td>\n",
       "      <td>AVENIDA DE FRANCISCO PI Y MARGALL - AVENIDA DE...</td>\n",
       "      <td></td>\n",
       "      <td>2018/3</td>\n",
       "      <td>NO</td>\n",
       "      <td>NO</td>\n",
       "      <td>NO</td>\n",
       "      <td>...</td>\n",
       "      <td>SI</td>\n",
       "      <td>1</td>\n",
       "      <td>CHOQUE CON OBJETO FIJO</td>\n",
       "      <td>NO ASIGNADO</td>\n",
       "      <td>TESTIGO</td>\n",
       "      <td>MUJER</td>\n",
       "      <td>IL</td>\n",
       "      <td>DE 40 A 44 AÑOS</td>\n",
       "      <td>2018</td>\n",
       "      <td>42.0</td>\n",
       "    </tr>\n",
       "  </tbody>\n",
       "</table>\n",
       "<p>5 rows × 28 columns</p>\n",
       "</div>"
      ],
      "text/plain": [
       "       FECHA     RANGO HORARIO DIA SEMANA                        DISTRITO  \\\n",
       "0 2018-01-01  DE 00:00 A 00:59      LUNES  USERA                            \n",
       "1 2018-01-01  DE 00:00 A 00:59      LUNES  USERA                            \n",
       "2 2018-01-01  DE 00:00 A 00:59      LUNES  USERA                            \n",
       "3 2018-01-01    DE 1:00 A 1:59      LUNES  HORTALEZA                        \n",
       "4 2018-01-01    DE 1:00 A 1:59      LUNES  HORTALEZA                        \n",
       "\n",
       "                                     LUGAR ACCIDENTE          Nº Nº PARTE  \\\n",
       "0  CALLE DE SAN BASILIO - CALLE DEL CRISTO DE LA ...           0   2018/1   \n",
       "1  CALLE DE SAN BASILIO - CALLE DEL CRISTO DE LA ...           0   2018/1   \n",
       "2  CALLE DE SAN BASILIO - CALLE DEL CRISTO DE LA ...           0   2018/1   \n",
       "3  AVENIDA DE FRANCISCO PI Y MARGALL - AVENIDA DE...               2018/3   \n",
       "4  AVENIDA DE FRANCISCO PI Y MARGALL - AVENIDA DE...               2018/3   \n",
       "\n",
       "  CPFA Granizo CPFA Hielo CPFA Lluvia  ... CPSV Seca Y Limpia VICTIMAS  \\\n",
       "0           NO         NO          NO  ...                 SI        1   \n",
       "1           NO         NO          NO  ...                 SI        1   \n",
       "2           NO         NO          NO  ...                 SI        1   \n",
       "3           NO         NO          NO  ...                 SI        1   \n",
       "4           NO         NO          NO  ...                 SI        1   \n",
       "\n",
       "                             TIPO ACCIDENTE  \\\n",
       "0  ATROPELLO                                  \n",
       "1  ATROPELLO                                  \n",
       "2  ATROPELLO                                  \n",
       "3  CHOQUE CON OBJETO FIJO                     \n",
       "4  CHOQUE CON OBJETO FIJO                     \n",
       "\n",
       "                              Tipo Vehiculo  \\\n",
       "0                               NO ASIGNADO   \n",
       "1                               NO ASIGNADO   \n",
       "2  TURISMO                                    \n",
       "3                               NO ASIGNADO   \n",
       "4                               NO ASIGNADO   \n",
       "\n",
       "                               TIPO PERSONA    SEXO LESIVIDAD  \\\n",
       "0  PEATON                                    HOMBRE        HG   \n",
       "1  TESTIGO                                   HOMBRE        IL   \n",
       "2                                 CONDUCTOR  HOMBRE        IL   \n",
       "3  TESTIGO                                   HOMBRE        IL   \n",
       "4  TESTIGO                                    MUJER        IL   \n",
       "\n",
       "        Tramo Edad   ANO  Edad  \n",
       "0  DE 15 A 17 AÑOS  2018  16.0  \n",
       "1  DE 30 A 34 ANOS  2018  32.0  \n",
       "2  DE 35 A 39 AÑOS  2018  37.0  \n",
       "3  DE 21 A 24 AÑOS  2018  22.5  \n",
       "4  DE 40 A 44 AÑOS  2018  42.0  \n",
       "\n",
       "[5 rows x 28 columns]"
      ]
     },
     "execution_count": 87,
     "metadata": {},
     "output_type": "execute_result"
    }
   ],
   "source": [
    "merged_data.head()"
   ]
  },
  {
   "cell_type": "markdown",
   "metadata": {},
   "source": [
    "# Objetivos e indicadores del Segundo Plan de Seguridad 2012-2020\n"
   ]
  },
  {
   "cell_type": "code",
   "execution_count": 205,
   "metadata": {},
   "outputs": [
    {
     "data": {
      "image/png": "[encoded data removed]",
      "text/plain": [
       "<IPython.core.display.Image object>"
      ]
     },
     "metadata": {},
     "output_type": "display_data"
    }
   ],
   "source": [
    "from IPython.display import display, Image\n",
    "display(Image(filename='../img/Objetivos.png'))"
   ]
  },
  {
   "cell_type": "markdown",
   "metadata": {},
   "source": [
    "* Reducir las víctimas mortales poraccidente de tráfico en un 50%"
   ]
  },
  {
   "cell_type": "code",
   "execution_count": 183,
   "metadata": {},
   "outputs": [
    {
     "data": {
      "image/png": "[encoded data removed]",
      "text/plain": [
       "<Figure size 864x360 with 1 Axes>"
      ]
     },
     "metadata": {
      "needs_background": "light"
     },
     "output_type": "display_data"
    }
   ],
   "source": [
    "filtered_data=merged_data[(merged_data['LESIVIDAD'].isin(['MT']))]\n",
    "filtered_data=filtered_data.drop_duplicates(subset='Nº PARTE',keep='first')\n",
    "pt=pd.pivot_table(data=filtered_data,index='ANO',values='VICTIMAS',aggfunc='count');\n",
    "figure=plt.figure(figsize=(12,5))\n",
    "\n",
    "plt.ylabel('Número de fallecidos')\n",
    "plt.xlabel('Año')\n",
    "plt.plot(pt);\n"
   ]
  },
  {
   "cell_type": "markdown",
   "metadata": {},
   "source": [
    "* Reducir un 30% la tasa de víctimas por mil habitantes"
   ]
  },
  {
   "cell_type": "code",
   "execution_count": 184,
   "metadata": {},
   "outputs": [
    {
     "data": {
      "text/html": [
       "<div>\n",
       "<style scoped>\n",
       "    .dataframe tbody tr th:only-of-type {\n",
       "        vertical-align: middle;\n",
       "    }\n",
       "\n",
       "    .dataframe tbody tr th {\n",
       "        vertical-align: top;\n",
       "    }\n",
       "\n",
       "    .dataframe thead th {\n",
       "        text-align: right;\n",
       "    }\n",
       "</style>\n",
       "<table border=\"1\" class=\"dataframe\">\n",
       "  <thead>\n",
       "    <tr style=\"text-align: right;\">\n",
       "      <th></th>\n",
       "      <th>VICTIMAS</th>\n",
       "      <th>vict_mil</th>\n",
       "    </tr>\n",
       "    <tr>\n",
       "      <th>ANO</th>\n",
       "      <th></th>\n",
       "      <th></th>\n",
       "    </tr>\n",
       "  </thead>\n",
       "  <tbody>\n",
       "    <tr>\n",
       "      <th>2010</th>\n",
       "      <td>11845</td>\n",
       "      <td>2.313477</td>\n",
       "    </tr>\n",
       "    <tr>\n",
       "      <th>2011</th>\n",
       "      <td>12029</td>\n",
       "      <td>2.349414</td>\n",
       "    </tr>\n",
       "    <tr>\n",
       "      <th>2012</th>\n",
       "      <td>11824</td>\n",
       "      <td>2.309375</td>\n",
       "    </tr>\n",
       "    <tr>\n",
       "      <th>2013</th>\n",
       "      <td>11928</td>\n",
       "      <td>2.329687</td>\n",
       "    </tr>\n",
       "    <tr>\n",
       "      <th>2014</th>\n",
       "      <td>12434</td>\n",
       "      <td>2.428516</td>\n",
       "    </tr>\n",
       "    <tr>\n",
       "      <th>2015</th>\n",
       "      <td>12453</td>\n",
       "      <td>2.432227</td>\n",
       "    </tr>\n",
       "    <tr>\n",
       "      <th>2016</th>\n",
       "      <td>12774</td>\n",
       "      <td>2.494922</td>\n",
       "    </tr>\n",
       "    <tr>\n",
       "      <th>2017</th>\n",
       "      <td>13124</td>\n",
       "      <td>2.563281</td>\n",
       "    </tr>\n",
       "    <tr>\n",
       "      <th>2018</th>\n",
       "      <td>13430</td>\n",
       "      <td>2.623047</td>\n",
       "    </tr>\n",
       "  </tbody>\n",
       "</table>\n",
       "</div>"
      ],
      "text/plain": [
       "      VICTIMAS  vict_mil\n",
       "ANO                     \n",
       "2010     11845  2.313477\n",
       "2011     12029  2.349414\n",
       "2012     11824  2.309375\n",
       "2013     11928  2.329687\n",
       "2014     12434  2.428516\n",
       "2015     12453  2.432227\n",
       "2016     12774  2.494922\n",
       "2017     13124  2.563281\n",
       "2018     13430  2.623047"
      ]
     },
     "execution_count": 184,
     "metadata": {},
     "output_type": "execute_result"
    },
    {
     "data": {
      "image/png": "[encoded data removed]",
      "text/plain": [
       "<Figure size 864x360 with 1 Axes>"
      ]
     },
     "metadata": {
      "needs_background": "light"
     },
     "output_type": "display_data"
    }
   ],
   "source": [
    "def victimas_mil_habitantes(num_victimas):\n",
    "    poblacion=6400000*0.8\n",
    "    victimas_mil_habitantes=num_victimas/(poblacion/1000)\n",
    "    return victimas_mil_habitantes                       \n",
    "victimas_mil_habitantes(10000)\n",
    "\n",
    "filtered_data=merged_data.drop_duplicates(subset='Nº PARTE',keep='first')\n",
    "pt=pd.pivot_table(data=filtered_data,index='ANO',values='VICTIMAS',aggfunc='sum');\n",
    "\n",
    "pt['vict_mil']=pt['VICTIMAS'].apply(lambda x:victimas_mil_habitantes(x))\n",
    "figure=plt.figure(figsize=(12,5))\n",
    "plt.plot(pt['vict_mil'])\n",
    "pt"
   ]
  },
  {
   "cell_type": "markdown",
   "metadata": {},
   "source": [
    "* Reducir un 30% los fallecidos poratropello "
   ]
  },
  {
   "cell_type": "code",
   "execution_count": 182,
   "metadata": {
    "scrolled": true
   },
   "outputs": [
    {
     "data": {
      "text/html": [
       "<div>\n",
       "<style scoped>\n",
       "    .dataframe tbody tr th:only-of-type {\n",
       "        vertical-align: middle;\n",
       "    }\n",
       "\n",
       "    .dataframe tbody tr th {\n",
       "        vertical-align: top;\n",
       "    }\n",
       "\n",
       "    .dataframe thead th {\n",
       "        text-align: right;\n",
       "    }\n",
       "</style>\n",
       "<table border=\"1\" class=\"dataframe\">\n",
       "  <thead>\n",
       "    <tr style=\"text-align: right;\">\n",
       "      <th></th>\n",
       "      <th>VICTIMAS</th>\n",
       "    </tr>\n",
       "    <tr>\n",
       "      <th>ANO</th>\n",
       "      <th></th>\n",
       "    </tr>\n",
       "  </thead>\n",
       "  <tbody>\n",
       "    <tr>\n",
       "      <th>2010</th>\n",
       "      <td>26</td>\n",
       "    </tr>\n",
       "    <tr>\n",
       "      <th>2011</th>\n",
       "      <td>18</td>\n",
       "    </tr>\n",
       "    <tr>\n",
       "      <th>2012</th>\n",
       "      <td>26</td>\n",
       "    </tr>\n",
       "    <tr>\n",
       "      <th>2013</th>\n",
       "      <td>39</td>\n",
       "    </tr>\n",
       "    <tr>\n",
       "      <th>2014</th>\n",
       "      <td>13</td>\n",
       "    </tr>\n",
       "    <tr>\n",
       "      <th>2015</th>\n",
       "      <td>12</td>\n",
       "    </tr>\n",
       "    <tr>\n",
       "      <th>2016</th>\n",
       "      <td>20</td>\n",
       "    </tr>\n",
       "    <tr>\n",
       "      <th>2017</th>\n",
       "      <td>21</td>\n",
       "    </tr>\n",
       "    <tr>\n",
       "      <th>2018</th>\n",
       "      <td>19</td>\n",
       "    </tr>\n",
       "  </tbody>\n",
       "</table>\n",
       "</div>"
      ],
      "text/plain": [
       "      VICTIMAS\n",
       "ANO           \n",
       "2010        26\n",
       "2011        18\n",
       "2012        26\n",
       "2013        39\n",
       "2014        13\n",
       "2015        12\n",
       "2016        20\n",
       "2017        21\n",
       "2018        19"
      ]
     },
     "execution_count": 182,
     "metadata": {},
     "output_type": "execute_result"
    },
    {
     "data": {
      "image/png": "[encoded data removed]",
      "text/plain": [
       "<Figure size 864x360 with 1 Axes>"
      ]
     },
     "metadata": {
      "needs_background": "light"
     },
     "output_type": "display_data"
    }
   ],
   "source": [
    "filtered_data=merged_data[(merged_data['TIPO ACCIDENTE'].str.match('ATROPELLO')) & (merged_data['LESIVIDAD'].isin(['MT']))]\n",
    "plt.figure(figsize=(12,5))\n",
    "pt=pd.pivot_table(data=filtered_data,index='ANO',values='VICTIMAS',aggfunc='sum');\n",
    "\n",
    "plt.bar(height=pt['VICTIMAS'],x=pt.index)\n",
    "pt"
   ]
  },
  {
   "cell_type": "code",
   "execution_count": 174,
   "metadata": {
    "scrolled": true
   },
   "outputs": [
    {
     "data": {
      "text/plain": [
       "<BarContainer object of 9 artists>"
      ]
     },
     "execution_count": 174,
     "metadata": {},
     "output_type": "execute_result"
    },
    {
     "data": {
      "image/png": "[encoded data removed]",
      "text/plain": [
       "<Figure size 864x360 with 2 Axes>"
      ]
     },
     "metadata": {
      "needs_background": "light"
     },
     "output_type": "display_data"
    }
   ],
   "source": [
    "\n",
    "filtered_data=merged_data[(merged_data['TIPO ACCIDENTE'].str.match('ATROPELLO')) & (merged_data['LESIVIDAD'].isin(['HG','MT','HL']))]\n",
    "filtered_data=filtered_data.drop_duplicates(subset='Nº PARTE',keep='first')\n",
    "\n",
    "plt.figure(figsize=(12,5))\n",
    "plt.subplot(121)\n",
    "pt=pd.pivot_table(data=filtered_data,index='ANO',values='VICTIMAS',aggfunc='sum');\n",
    "plt.plot(pt)\n",
    "pt=pd.pivot_table(data=filtered_data,index='ANO',values='VICTIMAS',columns='LESIVIDAD',aggfunc='count')\n",
    "ax=plt.subplot(122)\n",
    "\n",
    "ax.bar(height=pt.HG,x=pt.index,align='center')\n",
    "ax.bar(height=pt.MT,x=pt.index,align='center')\n",
    "\n"
   ]
  },
  {
   "cell_type": "code",
   "execution_count": 58,
   "metadata": {},
   "outputs": [
    {
     "data": {
      "text/plain": [
       "AÑO\n",
       "2014    167625\n",
       "2015    165663\n",
       "2016    172998\n",
       "2017    184935\n",
       "2018    158988\n",
       "2019         0\n",
       "Name: N_PRUEBAS, dtype: int64"
      ]
     },
     "execution_count": 58,
     "metadata": {},
     "output_type": "execute_result"
    },
    {
     "data": {
      "image/png": "[encoded data removed]",
      "text/plain": [
       "<Figure size 432x288 with 1 Axes>"
      ]
     },
     "metadata": {
      "needs_background": "light"
     },
     "output_type": "display_data"
    }
   ],
   "source": [
    "pruebas_alcoholemia_año=pruebas_alcoholemia.groupby(by='AÑO').sum()['N_PRUEBAS']\n",
    "pruebas_alcoholemia_año.plot(kind='bar')\n",
    "pruebas_alcoholemia_año"
   ]
  },
  {
   "cell_type": "code",
   "execution_count": 56,
   "metadata": {},
   "outputs": [
    {
     "ename": "KeyError",
     "evalue": "'TIPO PERSONA'",
     "output_type": "error",
     "traceback": [
      "\u001b[1;31m---------------------------------------------------------------------------\u001b[0m",
      "\u001b[1;31mKeyError\u001b[0m                                  Traceback (most recent call last)",
      "\u001b[1;32mc:\\program files (x86)\\python37-32\\lib\\site-packages\\pandas\\core\\indexes\\base.py\u001b[0m in \u001b[0;36mget_loc\u001b[1;34m(self, key, method, tolerance)\u001b[0m\n\u001b[0;32m   2656\u001b[0m             \u001b[1;32mtry\u001b[0m\u001b[1;33m:\u001b[0m\u001b[1;33m\u001b[0m\u001b[1;33m\u001b[0m\u001b[0m\n\u001b[1;32m-> 2657\u001b[1;33m                 \u001b[1;32mreturn\u001b[0m \u001b[0mself\u001b[0m\u001b[1;33m.\u001b[0m\u001b[0m_engine\u001b[0m\u001b[1;33m.\u001b[0m\u001b[0mget_loc\u001b[0m\u001b[1;33m(\u001b[0m\u001b[0mkey\u001b[0m\u001b[1;33m)\u001b[0m\u001b[1;33m\u001b[0m\u001b[1;33m\u001b[0m\u001b[0m\n\u001b[0m\u001b[0;32m   2658\u001b[0m             \u001b[1;32mexcept\u001b[0m \u001b[0mKeyError\u001b[0m\u001b[1;33m:\u001b[0m\u001b[1;33m\u001b[0m\u001b[1;33m\u001b[0m\u001b[0m\n",
      "\u001b[1;32mpandas\\_libs\\index.pyx\u001b[0m in \u001b[0;36mpandas._libs.index.IndexEngine.get_loc\u001b[1;34m()\u001b[0m\n",
      "\u001b[1;32mpandas\\_libs\\index.pyx\u001b[0m in \u001b[0;36mpandas._libs.index.IndexEngine.get_loc\u001b[1;34m()\u001b[0m\n",
      "\u001b[1;32mpandas\\_libs\\hashtable_class_helper.pxi\u001b[0m in \u001b[0;36mpandas._libs.hashtable.PyObjectHashTable.get_item\u001b[1;34m()\u001b[0m\n",
      "\u001b[1;32mpandas\\_libs\\hashtable_class_helper.pxi\u001b[0m in \u001b[0;36mpandas._libs.hashtable.PyObjectHashTable.get_item\u001b[1;34m()\u001b[0m\n",
      "\u001b[1;31mKeyError\u001b[0m: 'TIPO PERSONA'",
      "\nDuring handling of the above exception, another exception occurred:\n",
      "\u001b[1;31mKeyError\u001b[0m                                  Traceback (most recent call last)",
      "\u001b[1;32m<ipython-input-56-92e78e232114>\u001b[0m in \u001b[0;36m<module>\u001b[1;34m\u001b[0m\n\u001b[1;32m----> 1\u001b[1;33m \u001b[0mconductores\u001b[0m\u001b[1;33m=\u001b[0m\u001b[0mmerged_data\u001b[0m\u001b[1;33m[\u001b[0m\u001b[1;33m(\u001b[0m\u001b[0mmerged_data\u001b[0m\u001b[1;33m[\u001b[0m\u001b[1;34m'TIPO PERSONA'\u001b[0m\u001b[1;33m]\u001b[0m\u001b[1;33m==\u001b[0m\u001b[1;34m'CONDUCTOR'\u001b[0m\u001b[1;33m)\u001b[0m \u001b[1;33m&\u001b[0m \u001b[1;33m(\u001b[0m\u001b[0mmerged_data\u001b[0m\u001b[1;33m[\u001b[0m\u001b[1;34m'Edad'\u001b[0m\u001b[1;33m]\u001b[0m\u001b[1;33m>\u001b[0m\u001b[1;36m18\u001b[0m\u001b[1;33m)\u001b[0m\u001b[1;33m]\u001b[0m\u001b[1;33m\u001b[0m\u001b[1;33m\u001b[0m\u001b[0m\n\u001b[0m\u001b[0;32m      2\u001b[0m \u001b[1;33m\u001b[0m\u001b[0m\n\u001b[0;32m      3\u001b[0m \u001b[0mconductores\u001b[0m\u001b[1;33m[\u001b[0m\u001b[1;34m'Edad'\u001b[0m\u001b[1;33m]\u001b[0m\u001b[1;33m.\u001b[0m\u001b[0mplot\u001b[0m\u001b[1;33m(\u001b[0m\u001b[0mkind\u001b[0m\u001b[1;33m=\u001b[0m\u001b[1;34m'hist'\u001b[0m\u001b[1;33m)\u001b[0m\u001b[1;33m\u001b[0m\u001b[1;33m\u001b[0m\u001b[0m\n",
      "\u001b[1;32mc:\\program files (x86)\\python37-32\\lib\\site-packages\\pandas\\core\\frame.py\u001b[0m in \u001b[0;36m__getitem__\u001b[1;34m(self, key)\u001b[0m\n\u001b[0;32m   2925\u001b[0m             \u001b[1;32mif\u001b[0m \u001b[0mself\u001b[0m\u001b[1;33m.\u001b[0m\u001b[0mcolumns\u001b[0m\u001b[1;33m.\u001b[0m\u001b[0mnlevels\u001b[0m \u001b[1;33m>\u001b[0m \u001b[1;36m1\u001b[0m\u001b[1;33m:\u001b[0m\u001b[1;33m\u001b[0m\u001b[1;33m\u001b[0m\u001b[0m\n\u001b[0;32m   2926\u001b[0m                 \u001b[1;32mreturn\u001b[0m \u001b[0mself\u001b[0m\u001b[1;33m.\u001b[0m\u001b[0m_getitem_multilevel\u001b[0m\u001b[1;33m(\u001b[0m\u001b[0mkey\u001b[0m\u001b[1;33m)\u001b[0m\u001b[1;33m\u001b[0m\u001b[1;33m\u001b[0m\u001b[0m\n\u001b[1;32m-> 2927\u001b[1;33m             \u001b[0mindexer\u001b[0m \u001b[1;33m=\u001b[0m \u001b[0mself\u001b[0m\u001b[1;33m.\u001b[0m\u001b[0mcolumns\u001b[0m\u001b[1;33m.\u001b[0m\u001b[0mget_loc\u001b[0m\u001b[1;33m(\u001b[0m\u001b[0mkey\u001b[0m\u001b[1;33m)\u001b[0m\u001b[1;33m\u001b[0m\u001b[1;33m\u001b[0m\u001b[0m\n\u001b[0m\u001b[0;32m   2928\u001b[0m             \u001b[1;32mif\u001b[0m \u001b[0mis_integer\u001b[0m\u001b[1;33m(\u001b[0m\u001b[0mindexer\u001b[0m\u001b[1;33m)\u001b[0m\u001b[1;33m:\u001b[0m\u001b[1;33m\u001b[0m\u001b[1;33m\u001b[0m\u001b[0m\n\u001b[0;32m   2929\u001b[0m                 \u001b[0mindexer\u001b[0m \u001b[1;33m=\u001b[0m \u001b[1;33m[\u001b[0m\u001b[0mindexer\u001b[0m\u001b[1;33m]\u001b[0m\u001b[1;33m\u001b[0m\u001b[1;33m\u001b[0m\u001b[0m\n",
      "\u001b[1;32mc:\\program files (x86)\\python37-32\\lib\\site-packages\\pandas\\core\\indexes\\base.py\u001b[0m in \u001b[0;36mget_loc\u001b[1;34m(self, key, method, tolerance)\u001b[0m\n\u001b[0;32m   2657\u001b[0m                 \u001b[1;32mreturn\u001b[0m \u001b[0mself\u001b[0m\u001b[1;33m.\u001b[0m\u001b[0m_engine\u001b[0m\u001b[1;33m.\u001b[0m\u001b[0mget_loc\u001b[0m\u001b[1;33m(\u001b[0m\u001b[0mkey\u001b[0m\u001b[1;33m)\u001b[0m\u001b[1;33m\u001b[0m\u001b[1;33m\u001b[0m\u001b[0m\n\u001b[0;32m   2658\u001b[0m             \u001b[1;32mexcept\u001b[0m \u001b[0mKeyError\u001b[0m\u001b[1;33m:\u001b[0m\u001b[1;33m\u001b[0m\u001b[1;33m\u001b[0m\u001b[0m\n\u001b[1;32m-> 2659\u001b[1;33m                 \u001b[1;32mreturn\u001b[0m \u001b[0mself\u001b[0m\u001b[1;33m.\u001b[0m\u001b[0m_engine\u001b[0m\u001b[1;33m.\u001b[0m\u001b[0mget_loc\u001b[0m\u001b[1;33m(\u001b[0m\u001b[0mself\u001b[0m\u001b[1;33m.\u001b[0m\u001b[0m_maybe_cast_indexer\u001b[0m\u001b[1;33m(\u001b[0m\u001b[0mkey\u001b[0m\u001b[1;33m)\u001b[0m\u001b[1;33m)\u001b[0m\u001b[1;33m\u001b[0m\u001b[1;33m\u001b[0m\u001b[0m\n\u001b[0m\u001b[0;32m   2660\u001b[0m         \u001b[0mindexer\u001b[0m \u001b[1;33m=\u001b[0m \u001b[0mself\u001b[0m\u001b[1;33m.\u001b[0m\u001b[0mget_indexer\u001b[0m\u001b[1;33m(\u001b[0m\u001b[1;33m[\u001b[0m\u001b[0mkey\u001b[0m\u001b[1;33m]\u001b[0m\u001b[1;33m,\u001b[0m \u001b[0mmethod\u001b[0m\u001b[1;33m=\u001b[0m\u001b[0mmethod\u001b[0m\u001b[1;33m,\u001b[0m \u001b[0mtolerance\u001b[0m\u001b[1;33m=\u001b[0m\u001b[0mtolerance\u001b[0m\u001b[1;33m)\u001b[0m\u001b[1;33m\u001b[0m\u001b[1;33m\u001b[0m\u001b[0m\n\u001b[0;32m   2661\u001b[0m         \u001b[1;32mif\u001b[0m \u001b[0mindexer\u001b[0m\u001b[1;33m.\u001b[0m\u001b[0mndim\u001b[0m \u001b[1;33m>\u001b[0m \u001b[1;36m1\u001b[0m \u001b[1;32mor\u001b[0m \u001b[0mindexer\u001b[0m\u001b[1;33m.\u001b[0m\u001b[0msize\u001b[0m \u001b[1;33m>\u001b[0m \u001b[1;36m1\u001b[0m\u001b[1;33m:\u001b[0m\u001b[1;33m\u001b[0m\u001b[1;33m\u001b[0m\u001b[0m\n",
      "\u001b[1;32mpandas\\_libs\\index.pyx\u001b[0m in \u001b[0;36mpandas._libs.index.IndexEngine.get_loc\u001b[1;34m()\u001b[0m\n",
      "\u001b[1;32mpandas\\_libs\\index.pyx\u001b[0m in \u001b[0;36mpandas._libs.index.IndexEngine.get_loc\u001b[1;34m()\u001b[0m\n",
      "\u001b[1;32mpandas\\_libs\\hashtable_class_helper.pxi\u001b[0m in \u001b[0;36mpandas._libs.hashtable.PyObjectHashTable.get_item\u001b[1;34m()\u001b[0m\n",
      "\u001b[1;32mpandas\\_libs\\hashtable_class_helper.pxi\u001b[0m in \u001b[0;36mpandas._libs.hashtable.PyObjectHashTable.get_item\u001b[1;34m()\u001b[0m\n",
      "\u001b[1;31mKeyError\u001b[0m: 'TIPO PERSONA'"
     ]
    }
   ],
   "source": [
    "conductores=merged_data[(merged_data['TIPO PERSONA']=='CONDUCTOR') & (merged_data['Edad']>18)]\n",
    "\n",
    "conductores['Edad'].plot(kind='hist')"
   ]
  }
 ],
 "metadata": {
  "kernelspec": {
   "display_name": "Python 3",
   "language": "python",
   "name": "python3"
  },
  "language_info": {
   "codemirror_mode": {
    "name": "ipython",
    "version": 3
   },
   "file_extension": ".py",
   "mimetype": "text/x-python",
   "name": "python",
   "nbconvert_exporter": "python",
   "pygments_lexer": "ipython3",
   "version": "3.7.3"
  }
 },
 "nbformat": 4,
 "nbformat_minor": 2
}
